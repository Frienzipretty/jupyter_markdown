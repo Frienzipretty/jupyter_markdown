{
 "cells": [
  {
   "cell_type": "markdown",
   "metadata": {},
   "source": [
    "# My Jupyter Notebook on IBM Watson Studio"
   ]
  },
  {
   "cell_type": "markdown",
   "metadata": {},
   "source": [
    "_I am interested in data analyst because data is life it quite interesting when you have a good data and not a biased data_"
   ]
  },
  {
   "cell_type": "markdown",
   "metadata": {},
   "source": [
    "Data Science Languages:\n",
    "\n",
    "1. Python\n",
    "\n",
    "2. R\n",
    "\n",
    "3. Julia"
   ]
  },
  {
   "cell_type": "markdown",
   "metadata": {},
   "source": [
    "Data Science Libraries in Python:\n",
    "\n",
    "1. NumPy\n",
    "\n",
    "2. Pandas\n",
    "\n",
    "3. Scipy\n",
    "\n",
    "4. Scikit-learn (sklearn)\n",
    "\n",
    "5. Tensorflow"
   ]
  },
  {
   "cell_type": "markdown",
   "metadata": {},
   "source": [
    "Tools | Examples | Type\n",
    "------|---------|-------\n",
    "Relational Databases | MySQL, PostgreSQL | Open-Source Tools\n",
    "Data Integration and Transformation | Apache Airflow | Open-Source Tools\n",
    "Data Visualization | Tableau | Open-Source Tools\n",
    "Relational Databases | Oracle, IBM DB2| Commercial Tools\n",
    "Data Integration and Transformation | IBM InfoSphere DataStage | Commercial Tools\n",
    "Data Visualization | IBM Cognos Embedded Dashboard | Commercial Tools\n",
    "Data Management | AWS DynamoDB | Cloud Tools"
   ]
  },
  {
   "cell_type": "markdown",
   "metadata": {},
   "source": [
    "**In Jupyter Notebooks, we can do mathematical computations such as the one below inside code cells:**"
   ]
  },
  {
   "cell_type": "code",
   "execution_count": 2,
   "metadata": {},
   "outputs": [
    {
     "data": {
      "text/plain": [
       "17"
      ]
     },
     "execution_count": 2,
     "metadata": {},
     "output_type": "execute_result"
    }
   ],
   "source": [
    "(5 * 2) + 7"
   ]
  },
  {
   "cell_type": "code",
   "execution_count": 6,
   "metadata": {},
   "outputs": [
    {
     "name": "stdout",
     "output_type": "stream",
     "text": [
      "35 mins is 0.5833333333333334 hours\n",
      "120 mins is 2.0 hours\n"
     ]
    }
   ],
   "source": [
    "def minute_converter(x):\n",
    "    return x/60\n",
    "\n",
    "\n",
    "minutes_1 = 35\n",
    "minutes_2 = 120\n",
    "\n",
    "print(f'{minutes_1} mins is {minute_converter(minutes_1)} hours')\n",
    "print(f'{minutes_2} mins is {minute_converter(minutes_2)} hours')"
   ]
  },
  {
   "cell_type": "markdown",
   "metadata": {},
   "source": [
    "Objectives:\n",
    "\n",
    "- Create a Jupyter Notebook\n",
    "\n",
    "- Add code cells\n",
    "\n",
    "- Add markdown cells\n",
    "\n",
    "- Add author name"
   ]
  },
  {
   "cell_type": "markdown",
   "metadata": {},
   "source": [
    "**OWHOR Gift Ihuoma**\n",
    "\n",
    "Data Analyst"
   ]
  }
 ],
 "metadata": {
  "kernelspec": {
   "display_name": "Python",
   "language": "python",
   "name": "conda-env-python-py"
  },
  "language_info": {
   "codemirror_mode": {
    "name": "ipython",
    "version": 3
   },
   "file_extension": ".py",
   "mimetype": "text/x-python",
   "name": "python",
   "nbconvert_exporter": "python",
   "pygments_lexer": "ipython3",
   "version": "3.7.12"
  }
 },
 "nbformat": 4,
 "nbformat_minor": 4
}
